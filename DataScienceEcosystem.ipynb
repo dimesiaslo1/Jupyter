{
 "cells": [
  {
   "cell_type": "markdown",
   "id": "2eb28476-21c4-4d8e-8b70-bc93fe9431bc",
   "metadata": {},
   "source": [
    "# Data Science Tools and Ecosystem"
   ]
  },
  {
   "cell_type": "markdown",
   "id": "afa828d4-6963-47da-bb69-9524e5ba81b8",
   "metadata": {},
   "source": [
    "In this notebook, Data Science Tools and Ecosystem are summarized."
   ]
  },
  {
   "cell_type": "markdown",
   "id": "add1d909-b1c7-41bc-adc9-49a8e31fff96",
   "metadata": {
    "tags": []
   },
   "source": [
    "# **Objectives:**\n",
    "- List popular languages for Data Science.\n",
    "- Create a markdown cell\n",
    "- Create a code cell to multiply and add numbers"
   ]
  },
  {
   "cell_type": "markdown",
   "id": "92b9036f-448f-42f8-89ab-50f027e92051",
   "metadata": {},
   "source": [
    "Some of the popular languages that Data Scientists use are:"
   ]
  },
  {
   "cell_type": "markdown",
   "id": "5b401777-3b64-455a-9d7a-82a64dd5dbba",
   "metadata": {},
   "source": [
    "1. Python\n",
    "2. R\n",
    "3. SQL"
   ]
  },
  {
   "cell_type": "markdown",
   "id": "4f68706a-d079-4202-a6e6-aa816a74f1e1",
   "metadata": {},
   "source": [
    "Some of the commonly used libraries used by Data Scientists include:"
   ]
  },
  {
   "cell_type": "markdown",
   "id": "afb14655-5a57-436a-a54e-08cc5ac02560",
   "metadata": {},
   "source": [
    "1. Pandas\n",
    "2. Numpy\n",
    "3. Scikit-learn"
   ]
  },
  {
   "cell_type": "markdown",
   "id": "f8eaa780-fec7-4746-9711-1dcb88687fe9",
   "metadata": {},
   "source": [
    "|Data Science Tools|\n",
    "|------------------|\n",
    "|Apache Spark|\n",
    "|My SQL|\n",
    "|Jupyter|"
   ]
  },
  {
   "cell_type": "markdown",
   "id": "c0f761c7-0b55-4ba4-bfc5-57fea43defb8",
   "metadata": {},
   "source": [
    "### Below are a few examples of evaluating arithmetic expressions in Python."
   ]
  },
  {
   "cell_type": "code",
   "execution_count": 2,
   "id": "b888cd81-a039-413e-b366-f78cf814ca7a",
   "metadata": {
    "tags": []
   },
   "outputs": [
    {
     "data": {
      "text/plain": [
       "17"
      ]
     },
     "execution_count": 2,
     "metadata": {},
     "output_type": "execute_result"
    }
   ],
   "source": [
    "# This a simple arithmetic expression to mutiply then add integers.\n",
    "(3*4)+5"
   ]
  },
  {
   "cell_type": "code",
   "execution_count": 3,
   "id": "8be158b2-35ca-431a-9b7e-f14bd6fd2c58",
   "metadata": {
    "tags": []
   },
   "outputs": [
    {
     "data": {
      "text/plain": [
       "3.3333333333333335"
      ]
     },
     "execution_count": 3,
     "metadata": {},
     "output_type": "execute_result"
    }
   ],
   "source": [
    "# This will convert 200 minutes to hours by diving by 60.\n",
    "200/60"
   ]
  },
  {
   "cell_type": "markdown",
   "id": "9637728a-0f9d-40a6-9e8f-f24fb9f5ca76",
   "metadata": {},
   "source": [
    "## Author\n",
    "Diego Mesias"
   ]
  },
  {
   "cell_type": "code",
   "execution_count": null,
   "id": "97b2cba2-f683-45c4-b9a6-24db459428b1",
   "metadata": {},
   "outputs": [],
   "source": []
  }
 ],
 "metadata": {
  "kernelspec": {
   "display_name": "Python",
   "language": "python",
   "name": "conda-env-python-py"
  },
  "language_info": {
   "codemirror_mode": {
    "name": "ipython",
    "version": 3
   },
   "file_extension": ".py",
   "mimetype": "text/x-python",
   "name": "python",
   "nbconvert_exporter": "python",
   "pygments_lexer": "ipython3",
   "version": "3.7.12"
  }
 },
 "nbformat": 4,
 "nbformat_minor": 5
}
